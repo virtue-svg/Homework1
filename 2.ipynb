{
 "cells": [
  {
   "cell_type": "code",
   "execution_count": 9,
   "metadata": {},
   "outputs": [
    {
     "name": "stdout",
     "output_type": "stream",
     "text": [
      "从小到大排序的数为： (-5.12, -1.0, 10.0)\n"
     ]
    }
   ],
   "source": [
    "# 输入三个数\n",
    "a = float(input(\"请输入一个数：\"))\n",
    "b = float(input(\"请输入一个数：\"))\n",
    "c = float(input(\"请输入一个数：\"))\n",
    "\n",
    "# 将三个数存入列表\n",
    "numbers = [a,b,c]\n",
    "\n",
    "\n",
    "# 利用sort()函数对列表进行排序\n",
    "numbers.sort()\n",
    "# 打印排好序的列表\n",
    "print(numbers)\n",
    "\n",
    "\n",
    "'''\n",
    "# 简单的冒泡排序\n",
    "def sort_three_numbers(s):\n",
    "    for i in range(3):\n",
    "        for j in range(i+1,3):\n",
    "            if s[i]>s[j]:\n",
    "                s[i],s[j] = s[j],s[i] # 交换两者值\n",
    "    \n",
    "    print(s)\n",
    "\n",
    "sort_three_numbers(numbers)\n",
    "'''\n",
    "\n",
    "'''\n",
    "# 两两比较排序\n",
    "def compare_and_sort_three_numbers(x,y,z):\n",
    "    if x>y:\n",
    "        x,y = y,x\n",
    "    if x>z:\n",
    "        x,z = z,x\n",
    "    if y>z:\n",
    "        y,z = z,y\n",
    "    \n",
    "    return x,y,z\n",
    "\n",
    "sort_numbers=compare_and_sort_three_numbers(a,b,c)\n",
    "print(\"从小到大排序的数为：\",sort_numbers)\n",
    "'''"
   ]
  }
 ],
 "metadata": {
  "kernelspec": {
   "display_name": "Python 3",
   "language": "python",
   "name": "python3"
  },
  "language_info": {
   "codemirror_mode": {
    "name": "ipython",
    "version": 3
   },
   "file_extension": ".py",
   "mimetype": "text/x-python",
   "name": "python",
   "nbconvert_exporter": "python",
   "pygments_lexer": "ipython3",
   "version": "3.12.2"
  }
 },
 "nbformat": 4,
 "nbformat_minor": 2
}
