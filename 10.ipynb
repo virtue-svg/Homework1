{
 "cells": [
  {
   "cell_type": "code",
   "execution_count": 1,
   "metadata": {},
   "outputs": [
    {
     "name": "stdout",
     "output_type": "stream",
     "text": [
      "6的阶乘是720\n"
     ]
    }
   ],
   "source": [
    "\n",
    "# 定义一个利用递归计算阶乘的函数\n",
    "def factorial(n):\n",
    "    # 当n为0时，返回1\n",
    "    if n==0:\n",
    "        return 1\n",
    "    else:\n",
    "        # 否则递归计算\n",
    "        return n*factorial(n-1)\n",
    "\n",
    "\n",
    "'''\n",
    "# 定义一个利用循环实现阶乘的函数\n",
    "def factorial_for(n):\n",
    "    if n==0:\n",
    "        return 1\n",
    "    else:\n",
    "        sum=1\n",
    "        for i in range(1,n+1):\n",
    "            sum *= i\n",
    "        return sum\n",
    "'''\n",
    "\n",
    "# 无限循环，直至从用户那里获取有效的输入值\n",
    "while True:\n",
    "    try:\n",
    "        x=int(input(\"请输入一个正整数：\"))\n",
    "        # 若输入整数为负，报错\n",
    "        if x<0:\n",
    "            print(\"错误, 输入了一个负整数\")\n",
    "        # 若为正整数，则计算阶乘并打印结果\n",
    "        else:\n",
    "            print(f\"{x}的阶乘是{factorial(x)}\")\n",
    "            # 输入有效，退出循环\n",
    "            break\n",
    "   \n",
    "    # 当输入值类型不是整数时时，进行异常处理\n",
    "    except ValueError:\n",
    "        print(\"错误, 请输入一个有效的正整数\")\n",
    "\n"
   ]
  },
  {
   "cell_type": "code",
   "execution_count": null,
   "metadata": {},
   "outputs": [],
   "source": []
  }
 ],
 "metadata": {
  "kernelspec": {
   "display_name": "Python 3",
   "language": "python",
   "name": "python3"
  },
  "language_info": {
   "codemirror_mode": {
    "name": "ipython",
    "version": 3
   },
   "file_extension": ".py",
   "mimetype": "text/x-python",
   "name": "python",
   "nbconvert_exporter": "python",
   "pygments_lexer": "ipython3",
   "version": "3.12.2"
  }
 },
 "nbformat": 4,
 "nbformat_minor": 2
}
