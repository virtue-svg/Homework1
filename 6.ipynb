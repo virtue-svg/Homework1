{
 "cells": [
  {
   "cell_type": "code",
   "execution_count": 2,
   "metadata": {},
   "outputs": [
    {
     "name": "stdout",
     "output_type": "stream",
     "text": [
      "5 4 3 2 1 5 4 3 2 1 "
     ]
    },
    {
     "data": {
      "text/plain": [
       "'\\n# 打印列表的元素，从最后一个开始打印到第一个，并返回倒序列表。\\ndef reverse(lst):\\n    \\n    # 使用切片创建倒序列表\\n    reversed_lst = lst[::-1]\\n    \\n    # 打印倒序列表\\n    for item in reversed_lst:\\n        print(item, end=\" \")\\n    print()  # 打印一个换行符\\n    \\n    return reversed_lst  # 返回倒序列表\\n\\n# 测试函数\\nL = [1, 2, 3, 4, 5]\\nreversed_L = reverse(L)\\nprint(\"倒序后的列表:\", reversed_L)\\n\\n'"
      ]
     },
     "execution_count": 2,
     "metadata": {},
     "output_type": "execute_result"
    }
   ],
   "source": [
    "def reverse_for(list):\n",
    "    \n",
    "    # 利用range()函数，从列表的最后一个元素开始遍历到第一个元素\n",
    "    for i in range(len(list)-1,-1,-1):\n",
    "        # 打印当前元素，end=' '参数表示打印后不换行而是空格分隔\n",
    "        print(list[i],end =' ')\n",
    "    \n",
    "\n",
    "def reverse_while(list):\n",
    "    # 初始化索引为列表最后一个元素的索引\n",
    "    i = len(L)-1\n",
    "    while i>=0:\n",
    "        print(list[i],end=' ')\n",
    "        # 索引递减，移动到前一个元素\n",
    "        i = i-1\n",
    "\n",
    "# 测试函数\n",
    "L = [1,2,3,4,5]\n",
    "reverse_for(L)\n",
    "reverse_while(L)\n",
    "\n",
    "'''\n",
    "# 打印列表的元素，从最后一个开始打印到第一个，并返回倒序列表。\n",
    "def reverse(lst):\n",
    "    \n",
    "    # 使用切片创建倒序列表\n",
    "    reversed_lst = lst[::-1]\n",
    "    \n",
    "    # 打印倒序列表\n",
    "    for item in reversed_lst:\n",
    "        print(item, end=\" \")\n",
    "    print()  # 打印一个换行符\n",
    "    \n",
    "    return reversed_lst  # 返回倒序列表\n",
    "\n",
    "# 测试函数\n",
    "L = [1, 2, 3, 4, 5]\n",
    "reversed_L = reverse(L)\n",
    "print(\"倒序后的列表:\", reversed_L)\n",
    "\n",
    "'''\n",
    "\n",
    "'''\n",
    "def reverse(lst):\n",
    "\n",
    "    # 使用reversed()函数进行倒序遍历\n",
    "    for item in reversed(lst):\n",
    "        print(item, end=\" \")\n",
    "    print()  \n",
    "\n",
    "# 测试函数\n",
    "L = [1, 2, 3, 4, 5]\n",
    "reverse(L)"
   ]
  },
  {
   "cell_type": "markdown",
   "metadata": {},
   "source": [
    "5. 写一个 Python 程序，用 for 循环，求解 1 到 100 的和。"
   ]
  }
 ],
 "metadata": {
  "kernelspec": {
   "display_name": "Python 3",
   "language": "python",
   "name": "python3"
  },
  "language_info": {
   "codemirror_mode": {
    "name": "ipython",
    "version": 3
   },
   "file_extension": ".py",
   "mimetype": "text/x-python",
   "name": "python",
   "nbconvert_exporter": "python",
   "pygments_lexer": "ipython3",
   "version": "3.12.2"
  }
 },
 "nbformat": 4,
 "nbformat_minor": 2
}
