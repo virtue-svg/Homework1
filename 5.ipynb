{
 "cells": [
  {
   "cell_type": "code",
   "execution_count": 5,
   "metadata": {},
   "outputs": [
    {
     "name": "stdout",
     "output_type": "stream",
     "text": [
      "从1到100的总和为： 5050\n"
     ]
    }
   ],
   "source": [
    "# 初始化总和为0\n",
    "sum=0\n",
    "\n",
    "# 使用for循环从1遍历到100\n",
    "for i in range(1,101):\n",
    "    sum += i\n",
    "\n",
    "print(\"从1到100的总和为：\",sum)"
   ]
  }
 ],
 "metadata": {
  "kernelspec": {
   "display_name": "Python 3",
   "language": "python",
   "name": "python3"
  },
  "language_info": {
   "codemirror_mode": {
    "name": "ipython",
    "version": 3
   },
   "file_extension": ".py",
   "mimetype": "text/x-python",
   "name": "python",
   "nbconvert_exporter": "python",
   "pygments_lexer": "ipython3",
   "version": "3.12.2"
  }
 },
 "nbformat": 4,
 "nbformat_minor": 2
}
