{
 "cells": [
  {
   "cell_type": "code",
   "execution_count": 2,
   "metadata": {},
   "outputs": [
    {
     "name": "stdout",
     "output_type": "stream",
     "text": [
      "[-6.5, 1.0, 9.1, 45.365]\n"
     ]
    }
   ],
   "source": [
    "# 使用split函数分割字符串，强制float转换后分别赋给四个变量\n",
    "a,b,c,d=map(float,input(\"请输入四个数，并用空格隔开：\").split())\n",
    "\n",
    "numbers=[a,b,c,d]\n",
    "\n",
    "\n",
    "# 利用sort()方法来对列表里的数排序,并利用reverse实现逆序\n",
    "numbers.sort(reverse=True)\n",
    "\n",
    "print(numbers)\n",
    "\n",
    "'''\n",
    "# 简单的冒泡排序,并增加一个表示列表元素个数的形参n\n",
    "def sort_three_numbers(s,n):\n",
    "    for i in range(n):\n",
    "        for j in range(i+1,n):\n",
    "            if s[i]>s[j]:\n",
    "                s[i],s[j] = s[j],s[i] # 交换两者值\n",
    "    \n",
    "    print(s)\n",
    "\n",
    "sort_three_numbers(numbers,len(numbers))\n",
    "'''"
   ]
  }
 ],
 "metadata": {
  "kernelspec": {
   "display_name": "Python 3",
   "language": "python",
   "name": "python3"
  },
  "language_info": {
   "codemirror_mode": {
    "name": "ipython",
    "version": 3
   },
   "file_extension": ".py",
   "mimetype": "text/x-python",
   "name": "python",
   "nbconvert_exporter": "python",
   "pygments_lexer": "ipython3",
   "version": "3.12.2"
  }
 },
 "nbformat": 4,
 "nbformat_minor": 2
}
