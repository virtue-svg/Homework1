{
 "cells": [
  {
   "cell_type": "code",
   "execution_count": 2,
   "metadata": {},
   "outputs": [],
   "source": [
    "def contains_consecutive_chars(s):\n",
    "    # 遍历字符串中的每个字符，除了最后一个，因为最后一个没有下一个字符与之比较\n",
    "    for i in range(len(s) - 1):\n",
    "        # 如果当前字符和下一个字符相同\n",
    "        if s[i] == s[i + 1]:\n",
    "            # 找到至少两个连续相同的字符，直接返回True\n",
    "            return True\n",
    "    \n",
    "    # 如果遍历完都没有找到连续相同的字符，返回False\n",
    "    return False\n",
    "\n",
    "# 获取用户输入\n",
    "input_string = input(\"请输入一个字符串：\")\n",
    "# 调用函数并打印结果\n",
    "if contains_consecutive_chars(input_string):\n",
    "    print(\"字符串中包含至少一组两个或两个以上连续出现的相同字符。\")\n",
    "else:\n",
    "    print(\"字符串中不包含连续出现的相同字符。\")\n"
   ]
  },
  {
   "cell_type": "code",
   "execution_count": null,
   "metadata": {},
   "outputs": [],
   "source": []
  }
 ],
 "metadata": {
  "kernelspec": {
   "display_name": "Python 3",
   "language": "python",
   "name": "python3"
  },
  "language_info": {
   "codemirror_mode": {
    "name": "ipython",
    "version": 3
   },
   "file_extension": ".py",
   "mimetype": "text/x-python",
   "name": "python",
   "nbconvert_exporter": "python",
   "pygments_lexer": "ipython3",
   "version": "3.12.2"
  }
 },
 "nbformat": 4,
 "nbformat_minor": 2
}
