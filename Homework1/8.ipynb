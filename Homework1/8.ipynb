{
 "cells": [
  {
   "cell_type": "code",
   "execution_count": 3,
   "metadata": {},
   "outputs": [
    {
     "name": "stdout",
     "output_type": "stream",
     "text": [
      "去掉空格后的字符串为： wzymycsadadsada\n"
     ]
    }
   ],
   "source": [
    "# 获取用户输入的字符串\n",
    "s=input(\"请输入一行字符串：\")\n",
    "\n",
    "# 初始化一个空字符串 result，用于存储去除空格后的字符串\n",
    "result=\"\"\n",
    "# 遍历字符串中每个字符\n",
    "for i in range(len(s)-1):\n",
    "    # 如果当前字符不是空格，则将其添加到result字符串中\n",
    "    if s[i] != ' ':       \n",
    "        result += s[i]\n",
    "\n",
    "print(result)\n",
    "\n",
    "\n",
    "'''\n",
    "# 使用replace()方法去掉字符串中的空格\n",
    "s_without_space = s.replace(\" \",\"\")\n",
    "print(\"去掉空格后的字符串为：\",s_without_space)\n",
    "'''\n",
    "\n",
    "'''\n",
    "# 使用split()方法，分割字符串，获得一个没有空格的字符列表\n",
    "s_list=s.split()\n",
    "# 使用join()方法，将字符列表再次连接为一个没有空格字符串\n",
    "s_without_space=\"\".join(s_list)\n",
    "\n",
    "print(\"去掉空格后的字符串为：\",s_without_space)\n",
    "'''"
   ]
  }
 ],
 "metadata": {
  "kernelspec": {
   "display_name": "Python 3",
   "language": "python",
   "name": "python3"
  },
  "language_info": {
   "codemirror_mode": {
    "name": "ipython",
    "version": 3
   },
   "file_extension": ".py",
   "mimetype": "text/x-python",
   "name": "python",
   "nbconvert_exporter": "python",
   "pygments_lexer": "ipython3",
   "version": "3.12.2"
  }
 },
 "nbformat": 4,
 "nbformat_minor": 2
}
