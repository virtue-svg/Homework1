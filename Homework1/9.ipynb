{
 "cells": [
  {
   "cell_type": "code",
   "execution_count": 4,
   "metadata": {},
   "outputs": [
    {
     "name": "stdout",
     "output_type": "stream",
     "text": [
      "27 的立方根是: 3.0\n"
     ]
    }
   ],
   "source": [
    "'''\n",
    "f(x)=x**3-a f'(x)=(3*x**2)\n",
    "'''\n",
    "\n",
    "# 定义一个用来计算立方根的函数，其中x为要求立方根的数，tolerance为容差，max_iteration为最大循环数\n",
    "def cubic_root(x,tolerance=1e-10,max_iteration=1000):\n",
    "    # 根据x的正负确定初始猜测值\n",
    "    if x>=0:\n",
    "        xn = 1\n",
    "    else:\n",
    "        xn = -1\n",
    "    \n",
    "    # 进行最多max_iteration次迭代\n",
    "    for i in range(max_iteration):\n",
    "        # 使用牛顿迭代法公式计算下一个迭代值\n",
    "        x_next=xn-(xn**3-a) / (3* xn**2)\n",
    "        \n",
    "        # 如果相邻两次迭代的差的绝对值小于容差，则认为收敛\n",
    "        if abs(x_next-xn)<=tolerance:\n",
    "            return x_next # 返回当前的立方根近似值,跳出循环\n",
    "        \n",
    "        xn=x_next\n",
    "    \n",
    "    raise ValueError(\"未能收敛\")\n",
    "\n",
    "a = 27\n",
    "root = cubic_root(a)\n",
    "print(f\"{a} 的立方根是: {root}\")\n",
    "        "
   ]
  }
 ],
 "metadata": {
  "kernelspec": {
   "display_name": "Python 3",
   "language": "python",
   "name": "python3"
  },
  "language_info": {
   "codemirror_mode": {
    "name": "ipython",
    "version": 3
   },
   "file_extension": ".py",
   "mimetype": "text/x-python",
   "name": "python",
   "nbconvert_exporter": "python",
   "pygments_lexer": "ipython3",
   "version": "3.12.2"
  }
 },
 "nbformat": 4,
 "nbformat_minor": 2
}
